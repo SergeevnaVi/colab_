{
  "nbformat": 4,
  "nbformat_minor": 0,
  "metadata": {
    "colab": {
      "provenance": [],
      "include_colab_link": true
    },
    "kernelspec": {
      "name": "python3",
      "display_name": "Python 3"
    },
    "language_info": {
      "name": "python"
    }
  },
  "cells": [
    {
      "cell_type": "markdown",
      "metadata": {
        "id": "view-in-github",
        "colab_type": "text"
      },
      "source": [
        "<a href=\"https://colab.research.google.com/github/SergeevnaVi/colab_/blob/main/%D0%9E%D1%81%D0%BD%D0%BE%D0%B2%D1%8B_%D0%BC%D0%B0%D1%88%D0%B8%D0%BD%D0%BD%D0%BE%D0%B3%D0%BE_%D0%BE%D0%B1%D1%83%D1%87%D0%B5%D0%BD%D0%B8%D1%8F.ipynb\" target=\"_parent\"><img src=\"https://colab.research.google.com/assets/colab-badge.svg\" alt=\"Open In Colab\"/></a>"
      ]
    },
    {
      "cell_type": "markdown",
      "source": [
        "#Домашнее задание по теме \"Основы машинного обучения\""
      ],
      "metadata": {
        "id": "UJkhiX_WCfIi"
      }
    },
    {
      "cell_type": "markdown",
      "source": [
        "Используйте блокнот \"Подготовка данных\": https://colab.research.google.com/drive/16jdLvrc8UBOJeVTh0vJtfa7mmCw4XeP1?usp=sharing\n",
        "\n",
        "- Сделайте копию блокнота на свой диск.\n",
        "- Изучите весь теоритический материал и выполните весь код.\n",
        "- Сохраните результаты.\n",
        "- Расшарьте блокнот и пришлите ссылку на проверку преподавателю."
      ],
      "metadata": {
        "id": "zrhggOBeCwl6"
      }
    },
    {
      "cell_type": "markdown",
      "source": [
        "# Просмотр данных\n"
      ],
      "metadata": {
        "id": "r_iATvGYU_nE"
      }
    },
    {
      "cell_type": "code",
      "source": [
        "from google.colab import drive\n",
        "drive.mount('/content/drive')"
      ],
      "metadata": {
        "id": "SXbzn3uNVJOe"
      },
      "execution_count": null,
      "outputs": []
    },
    {
      "cell_type": "code",
      "source": [
        "# импорт пакетов\n",
        "import pandas as pd\n",
        "import numpy as np\n",
        "import seaborn as sns\n",
        "\n",
        "import matplotlib.pyplot as plt\n",
        "import matplotlib.mlab as mlab\n",
        "import matplotlib\n",
        "plt.style.use('ggplot')\n",
        "from matplotlib.pyplot import figure\n",
        "\n",
        "%matplotlib inline\n",
        "matplotlib.rcParams['figure.figsize'] = (12,8)\n",
        "\n",
        "pd.options.mode.chained_assignment = None\n",
        "\n",
        "\n",
        "\n",
        "# чтение данных\n",
        "df = pd.read_csv('/content/sberbank.csv')\n",
        "\n",
        "# shape and data types of the data\n",
        "print(df.shape)\n",
        "print(df.dtypes)\n",
        "\n",
        "# отбор числовых колонок\n",
        "df_numeric = df.select_dtypes(include=[np.number])\n",
        "numeric_cols = df_numeric.columns.values\n",
        "print(numeric_cols)\n",
        "\n",
        "# отбор нечисловых колонок\n",
        "df_non_numeric = df.select_dtypes(exclude=[np.number])\n",
        "non_numeric_cols = df_non_numeric.columns.values\n",
        "print(non_numeric_cols)"
      ],
      "metadata": {
        "id": "6tvAEEygVYrw"
      },
      "execution_count": null,
      "outputs": []
    },
    {
      "cell_type": "markdown",
      "source": [
        "# Отсутствующие данные"
      ],
      "metadata": {
        "id": "cC2ffGztWR3Z"
      }
    },
    {
      "cell_type": "markdown",
      "source": [
        "\n",
        "\n",
        "1.   Тепловая карта пропущенных значений\n",
        "\n"
      ],
      "metadata": {
        "id": "BamKMVEWWkBX"
      }
    },
    {
      "cell_type": "code",
      "source": [
        "cols = df.columns[:30] # первые 30 колонок\n",
        "# определяем цвета\n",
        "# зеленый - пропущенные данные, синий - не пропущенные\n",
        "colours = ['#000099', '#1aff12']\n",
        "sns.heatmap(df[cols].isnull(), cmap=sns.color_palette(colours))"
      ],
      "metadata": {
        "collapsed": true,
        "id": "H-_okFTDWVRR"
      },
      "execution_count": null,
      "outputs": []
    },
    {
      "cell_type": "markdown",
      "source": [
        "2. Процентный список пропущенных данных"
      ],
      "metadata": {
        "id": "ylDUsBgvWow0"
      }
    },
    {
      "cell_type": "code",
      "source": [
        "for col in df.columns:\n",
        "    pct_missing = np.mean(df[col].isnull())\n",
        "    print('{} - {}%'.format(col, round(pct_missing*100)))"
      ],
      "metadata": {
        "collapsed": true,
        "id": "2VzH7-UpWshz"
      },
      "execution_count": null,
      "outputs": []
    },
    {
      "cell_type": "markdown",
      "source": [
        "3. Гистограмма пропущенных данных"
      ],
      "metadata": {
        "id": "96pfrDlyW6CE"
      }
    },
    {
      "cell_type": "code",
      "source": [
        "# Создание индикаторов пропущенных значений\n",
        "for col in df.columns:\n",
        "    missing = df[col].isnull()\n",
        "    num_missing = np.sum(missing)\n",
        "\n",
        "    if num_missing > 0:\n",
        "        print('created missing indicator for: {}'.format(col))\n",
        "        df['{}_ismissing'.format(col)] = missing\n",
        "\n",
        "# Построение гистограммы количества пропущенных значений\n",
        "ismissing_cols = [col for col in df.columns if 'ismissing' in col]\n",
        "df['num_missing'] = df[ismissing_cols].sum(axis=1)\n",
        "\n",
        "# Создание DataFrame для гистограммы\n",
        "num_missing_counts = df['num_missing'].value_counts().reset_index()\n",
        "num_missing_counts.columns = ['num_missing_values', 'count']\n",
        "num_missing_counts = num_missing_counts.sort_values(by='num_missing_values')\n",
        "\n",
        "# Вывод таблицы с пропущенными значениями\n",
        "missing_table = df.isnull().sum().reset_index()\n",
        "missing_table.columns = ['column', 'num_missing']\n",
        "missing_table = missing_table[missing_table['num_missing'] > 0]\n",
        "print(\"Таблица с количеством пропущенных значений в каждом столбце:\")\n",
        "print(missing_table)\n",
        "\n",
        "# Построение гистограммы\n",
        "plt.figure(figsize=(10, 6))\n",
        "plt.bar(num_missing_counts['num_missing_values'], num_missing_counts['count'], color='skyblue')\n",
        "plt.xlabel('Number of Missing Values per Row')\n",
        "plt.ylabel('Number of Rows')\n",
        "plt.title('Histogram of Missing Values per Row')\n",
        "plt.xticks(num_missing_counts['num_missing_values'])  # Установить метки по оси X для всех значений\n",
        "plt.show()"
      ],
      "metadata": {
        "collapsed": true,
        "id": "-xQI4wQoW9rS"
      },
      "execution_count": null,
      "outputs": []
    },
    {
      "cell_type": "markdown",
      "source": [
        "# Пропущенные значения"
      ],
      "metadata": {
        "id": "lGorxMdcXokc"
      }
    },
    {
      "cell_type": "markdown",
      "source": [
        "1. Отбрасывание записей"
      ],
      "metadata": {
        "id": "FCTcN8X5Xwm6"
      }
    },
    {
      "cell_type": "code",
      "source": [
        "ind_missing = df[df['num_missing'] > 35].index\n",
        "df_less_missing_rows = df.drop(ind_missing, axis=0)"
      ],
      "metadata": {
        "id": "spmU_ydaXv7e"
      },
      "execution_count": 10,
      "outputs": []
    },
    {
      "cell_type": "markdown",
      "source": [
        "2. Отбрасывание признаков"
      ],
      "metadata": {
        "id": "txdskeVMYXJQ"
      }
    },
    {
      "cell_type": "code",
      "source": [
        "cols_to_drop = ['hospital_beds_raion']\n",
        "df_less_hos_beds_raion = df.drop(cols_to_drop, axis=1)"
      ],
      "metadata": {
        "id": "Fot8pCHiYZ6q"
      },
      "execution_count": 11,
      "outputs": []
    },
    {
      "cell_type": "markdown",
      "source": [
        "3. Внесение недостающих значений"
      ],
      "metadata": {
        "id": "a95HS_ymYtig"
      }
    },
    {
      "cell_type": "code",
      "source": [
        "med = df['life_sq'].median()\n",
        "print(med)\n",
        "df['life_sq'] = df['life_sq'].fillna(med)\n",
        "\n",
        "df['life_sq']"
      ],
      "metadata": {
        "collapsed": true,
        "id": "y1mnAF0YYu27"
      },
      "execution_count": null,
      "outputs": []
    },
    {
      "cell_type": "markdown",
      "source": [
        "Стратегия заполнения для всех числовых признаков"
      ],
      "metadata": {
        "id": "lAWz_YcHZAY8"
      }
    },
    {
      "cell_type": "code",
      "source": [
        "df_numeric = df.select_dtypes(include=[np.number])\n",
        "numeric_cols = df_numeric.columns.values\n",
        "\n",
        "for col in numeric_cols:\n",
        "    missing = df[col].isnull()\n",
        "    num_missing = np.sum(missing)\n",
        "\n",
        "    if num_missing > 0:\n",
        "        print('imputing missing values for: {}'.format(col))\n",
        "        df['{}_ismissing'.format(col)] = missing\n",
        "        med = df[col].median()\n",
        "        df[col] = df[col].fillna(med)"
      ],
      "metadata": {
        "collapsed": true,
        "id": "uI_3E9p_Y88j"
      },
      "execution_count": null,
      "outputs": []
    },
    {
      "cell_type": "markdown",
      "source": [
        "и для категориальных признаков"
      ],
      "metadata": {
        "id": "6t1ktdlnZL7a"
      }
    },
    {
      "cell_type": "code",
      "source": [
        "df_non_numeric = df.select_dtypes(exclude=[np.number])\n",
        "non_numeric_cols = df_non_numeric.columns.values\n",
        "\n",
        "for col in non_numeric_cols:\n",
        "    missing = df[col].isnull()\n",
        "    num_missing = np.sum(missing)\n",
        "\n",
        "    if num_missing > 0:\n",
        "        print('imputing missing values for: {}'.format(col))\n",
        "        df['{}_ismissing'.format(col)] = missing\n",
        "\n",
        "        top = df[col].describe()['top']\n",
        "        df[col] = df[col].fillna(top)"
      ],
      "metadata": {
        "id": "cgGHdJpCZPWy"
      },
      "execution_count": null,
      "outputs": []
    },
    {
      "cell_type": "markdown",
      "source": [
        "4. Замена недостающих значений"
      ],
      "metadata": {
        "id": "3dvpjOiAZZud"
      }
    },
    {
      "cell_type": "code",
      "source": [
        "# категориальные признаки\n",
        "df['sub_area'] = df['sub_area'].fillna('_MISSING_')\n",
        "\n",
        "# численные признаки\n",
        "df['life_sq'] = df['life_sq'].fillna(-999)"
      ],
      "metadata": {
        "id": "NYbVwb2FZmSL"
      },
      "execution_count": 16,
      "outputs": []
    },
    {
      "cell_type": "markdown",
      "source": [
        "# Нетипичные данные (выбросы)"
      ],
      "metadata": {
        "id": "lF9MrBJ0ZtG7"
      }
    },
    {
      "cell_type": "markdown",
      "source": [
        "1. Гистограмма/коробчатая диаграмма"
      ],
      "metadata": {
        "id": "j4L0PTmkZxmc"
      }
    },
    {
      "cell_type": "code",
      "source": [
        "df['life_sq'].hist(bins=100)"
      ],
      "metadata": {
        "collapsed": true,
        "id": "9fJFi9mQZ1Fl"
      },
      "execution_count": null,
      "outputs": []
    },
    {
      "cell_type": "code",
      "source": [
        "df.boxplot(column=['life_sq'])"
      ],
      "metadata": {
        "collapsed": true,
        "id": "j7_07xjIaAW-"
      },
      "execution_count": null,
      "outputs": []
    },
    {
      "cell_type": "markdown",
      "source": [
        "2. Описательная статистика"
      ],
      "metadata": {
        "id": "mdZhfNWtaIPb"
      }
    },
    {
      "cell_type": "code",
      "source": [
        "df['life_sq'].describe()"
      ],
      "metadata": {
        "collapsed": true,
        "id": "vZxEbhO0aJyh"
      },
      "execution_count": null,
      "outputs": []
    },
    {
      "cell_type": "markdown",
      "source": [
        "3. Столбчатая диаграмма"
      ],
      "metadata": {
        "id": "qhUWPCFpaSNN"
      }
    },
    {
      "cell_type": "code",
      "source": [
        "df['ecology'].value_counts().plot.bar()"
      ],
      "metadata": {
        "collapsed": true,
        "id": "NiP48XqwaTY-"
      },
      "execution_count": null,
      "outputs": []
    },
    {
      "cell_type": "markdown",
      "source": [
        "# Неинформативные признаки"
      ],
      "metadata": {
        "id": "VUB3j3qtaltF"
      }
    },
    {
      "cell_type": "markdown",
      "source": [
        "1. Как обнаружить?"
      ],
      "metadata": {
        "id": "cF29UXKWan7v"
      }
    },
    {
      "cell_type": "code",
      "source": [
        "num_rows = len(df.index)\n",
        "low_information_cols = []\n",
        "\n",
        "for col in df.columns:\n",
        "    cnts = df[col].value_counts(dropna=False)\n",
        "    top_pct = (cnts/num_rows).iloc[0]\n",
        "\n",
        "    if top_pct > 0.95:\n",
        "        low_information_cols.append(col)\n",
        "        print('{0}: {1:.5f}%'.format(col, top_pct*100))\n",
        "        print(cnts)\n",
        "        print()"
      ],
      "metadata": {
        "collapsed": true,
        "id": "YhBRxAlka1Vy"
      },
      "execution_count": null,
      "outputs": []
    },
    {
      "cell_type": "markdown",
      "source": [
        "2. Что делать?"
      ],
      "metadata": {
        "id": "TeRkN8XybKRR"
      }
    },
    {
      "cell_type": "markdown",
      "source": [
        "Если после анализа причин получения повторяющихся значений вы пришли к выводу, что признак не несет полезной информации, используйте drop()."
      ],
      "metadata": {
        "id": "sZaF8eVmbM9N"
      }
    },
    {
      "cell_type": "markdown",
      "source": [
        "# Нерелевантные признаки"
      ],
      "metadata": {
        "id": "bbZR6iJtbP1y"
      }
    },
    {
      "cell_type": "markdown",
      "source": [
        "Нерелевантные признаки обнаруживаются ручным отбором и оценкой значимости.\n",
        "\n",
        "Например, признак, регистрирующий температуру на Марсе точно не имеет никакого отношения к прогнозированию цен на российское жилье. Если признак не имеет значения для проекта, его нужно исключить."
      ],
      "metadata": {
        "id": "0fBADxoRba4e"
      }
    },
    {
      "cell_type": "markdown",
      "source": [
        "# Дубликаты записей"
      ],
      "metadata": {
        "id": "5Sok0XSqbcQO"
      }
    },
    {
      "cell_type": "markdown",
      "source": [
        "1. Как обнаружить повторяющиеся записи?"
      ],
      "metadata": {
        "id": "3ZcPs1qHby0j"
      }
    },
    {
      "cell_type": "code",
      "source": [
        "# отбрасываем неуникальные строки\n",
        "df_dedupped = df.drop('id', axis=1).drop_duplicates()\n",
        "\n",
        "# сравниваем формы старого и нового наборов\n",
        "print(df.shape)\n",
        "print(df_dedupped.shape)"
      ],
      "metadata": {
        "collapsed": true,
        "id": "Iil177-Tb7NH"
      },
      "execution_count": null,
      "outputs": []
    },
    {
      "cell_type": "code",
      "source": [
        "# находим дубликаты по группе критических признаков\n",
        "\n",
        "key = ['timestamp', 'full_sq', 'life_sq', 'floor', 'build_year', 'num_room']\n",
        "df.fillna(-999).groupby(key)['id'].count().sort_values(ascending=False).head(20)"
      ],
      "metadata": {
        "collapsed": true,
        "id": "I-mZV8aqcNGs"
      },
      "execution_count": null,
      "outputs": []
    },
    {
      "cell_type": "markdown",
      "source": [
        "2. Что делать с дубликатами?"
      ],
      "metadata": {
        "id": "j_wFG1OZcfLK"
      }
    },
    {
      "cell_type": "code",
      "source": [
        "# исключаем дубликаты\n",
        "key = ['timestamp', 'full_sq', 'life_sq', 'floor', 'build_year', 'num_room']\n",
        "df_dedupped2 = df.drop_duplicates(subset=key)\n",
        "\n",
        "print(df.shape)\n",
        "print(df_dedupped2.shape)"
      ],
      "metadata": {
        "collapsed": true,
        "id": "KO3JPVYich0f"
      },
      "execution_count": null,
      "outputs": []
    },
    {
      "cell_type": "markdown",
      "source": [
        "# Разные регистры символов"
      ],
      "metadata": {
        "id": "YGhNin0mcvdr"
      }
    },
    {
      "cell_type": "markdown",
      "source": [
        "1. Как обнаружить?"
      ],
      "metadata": {
        "id": "g-m56-YhcypR"
      }
    },
    {
      "cell_type": "code",
      "source": [
        "df['sub_area'].value_counts(dropna=False)"
      ],
      "metadata": {
        "collapsed": true,
        "id": "9lEXKxW6c4LP"
      },
      "execution_count": null,
      "outputs": []
    },
    {
      "cell_type": "markdown",
      "source": [
        "2. Что делать?"
      ],
      "metadata": {
        "id": "bs19fj7mc-Mh"
      }
    },
    {
      "cell_type": "code",
      "source": [
        "# изменяем регистр\n",
        "df['sub_area_lower'] = df['sub_area'].str.lower()\n",
        "df['sub_area_lower'].value_counts(dropna=False)"
      ],
      "metadata": {
        "collapsed": true,
        "id": "PLdNO9wMc_5E"
      },
      "execution_count": null,
      "outputs": []
    },
    {
      "cell_type": "markdown",
      "source": [
        "# Разные форматы данных"
      ],
      "metadata": {
        "id": "dj3SVb7qdIXU"
      }
    },
    {
      "cell_type": "markdown",
      "source": [
        "1. Как обнаружить?"
      ],
      "metadata": {
        "id": "SDYmEEVUdMSU"
      }
    },
    {
      "cell_type": "code",
      "source": [
        "print(df['timestamp'])"
      ],
      "metadata": {
        "collapsed": true,
        "id": "b2yZlCLDdOSN"
      },
      "execution_count": null,
      "outputs": []
    },
    {
      "cell_type": "markdown",
      "source": [
        "2. Что делать?"
      ],
      "metadata": {
        "id": "MzfYmBLVdUin"
      }
    },
    {
      "cell_type": "code",
      "source": [
        "# преобразовываем в удобный формат\n",
        "df['timestamp_dt'] = pd.to_datetime(df['timestamp'], format='%Y-%m-%d')\n",
        "df['year'] = df['timestamp_dt'].dt.year\n",
        "df['month'] = df['timestamp_dt'].dt.month\n",
        "df['weekday'] = df['timestamp_dt'].dt.weekday\n",
        "\n",
        "print(df['year'].value_counts(dropna=False))\n",
        "print()\n",
        "print(df['month'].value_counts(dropna=False))"
      ],
      "metadata": {
        "collapsed": true,
        "id": "BRCm-BqBdV-2"
      },
      "execution_count": null,
      "outputs": []
    },
    {
      "cell_type": "markdown",
      "source": [
        "# Опечатки"
      ],
      "metadata": {
        "id": "WTqOOMDzdjag"
      }
    },
    {
      "cell_type": "markdown",
      "source": [
        "1. Как обнаружить?"
      ],
      "metadata": {
        "id": "_0rKMfPCdmLV"
      }
    },
    {
      "cell_type": "code",
      "source": [
        "from nltk.metrics import edit_distance\n",
        "\n",
        "df_city_ex = pd.DataFrame(data={'city': ['torontoo', 'toronto', 'tronto', 'vancouver', 'vancover', 'vancouvr', 'montreal', 'calgary']})\n",
        "\n",
        "\n",
        "df_city_ex['city_distance_toronto'] = df_city_ex['city'].map(lambda x: edit_distance(x, 'toronto'))\n",
        "df_city_ex['city_distance_vancouver'] = df_city_ex['city'].map(lambda x: edit_distance(x, 'vancouver'))\n",
        "df_city_ex"
      ],
      "metadata": {
        "collapsed": true,
        "id": "f6WHAe-cdn_x"
      },
      "execution_count": null,
      "outputs": []
    },
    {
      "cell_type": "markdown",
      "source": [
        "2. Что делать?"
      ],
      "metadata": {
        "id": "zhD-6YC2eGVm"
      }
    },
    {
      "cell_type": "code",
      "source": [
        "# преобразуем опечаток в правильное значение\n",
        "msk = df_city_ex['city_distance_toronto'] <= 2\n",
        "df_city_ex.loc[msk, 'city'] = 'toronto'\n",
        "\n",
        "msk = df_city_ex['city_distance_vancouver'] <= 2\n",
        "df_city_ex.loc[msk, 'city'] = 'vancouver'\n",
        "\n",
        "df_city_ex"
      ],
      "metadata": {
        "collapsed": true,
        "id": "aQ72E8iEeHr-"
      },
      "execution_count": null,
      "outputs": []
    },
    {
      "cell_type": "markdown",
      "source": [
        "# Адреса"
      ],
      "metadata": {
        "id": "r_b9XaYQeaPq"
      }
    },
    {
      "cell_type": "markdown",
      "source": [
        "1. Как обнаружить?"
      ],
      "metadata": {
        "id": "dhuRIShfedGL"
      }
    },
    {
      "cell_type": "code",
      "source": [
        "df_add_ex = pd.DataFrame(['123 MAIN St Apartment 15', '123 Main Street Apt 12   ', '543 FirSt Av', '  876 FIRst Ave.'], columns=['address'])\n",
        "df_add_ex"
      ],
      "metadata": {
        "id": "9c9VIV5UefFs"
      },
      "execution_count": null,
      "outputs": []
    },
    {
      "cell_type": "markdown",
      "source": [
        "2. Что можем сделать?"
      ],
      "metadata": {
        "id": "654giP0gesxo"
      }
    },
    {
      "cell_type": "code",
      "source": [
        "df_add_ex['address_std'] = df_add_ex['address'].str.lower()\n",
        "df_add_ex['address_std'] = df_add_ex['address_std'].str.strip()\n",
        "df_add_ex['address_std'] = df_add_ex['address_std'].str.replace('\\\\.', '')\n",
        "df_add_ex['address_std'] = df_add_ex['address_std'].str.replace('\\\\bstreet\\\\b', 'st')\n",
        "df_add_ex['address_std'] = df_add_ex['address_std'].str.replace('\\\\bapartment\\\\b', 'apt')\n",
        "df_add_ex['address_std'] = df_add_ex['address_std'].str.replace('\\\\bav\\\\b', 'ave')\n",
        "\n",
        "df_add_ex"
      ],
      "metadata": {
        "id": "_MA9h1ZZevIL"
      },
      "execution_count": null,
      "outputs": []
    }
  ]
}